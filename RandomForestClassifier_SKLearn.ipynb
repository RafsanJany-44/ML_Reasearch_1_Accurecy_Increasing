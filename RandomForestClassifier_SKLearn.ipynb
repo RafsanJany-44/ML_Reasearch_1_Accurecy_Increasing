{
  "nbformat": 4,
  "nbformat_minor": 0,
  "metadata": {
    "colab": {
      "name": "RandomForestClassifier_SKLearn.ipynb",
      "provenance": [],
      "include_colab_link": true
    },
    "kernelspec": {
      "name": "python3",
      "display_name": "Python 3"
    },
    "language_info": {
      "name": "python"
    }
  },
  "cells": [
    {
      "cell_type": "markdown",
      "metadata": {
        "id": "view-in-github",
        "colab_type": "text"
      },
      "source": [
        "<a href=\"https://colab.research.google.com/github/RafsanJany-44/ML_Reasearch_1_Accurecy_Increasing/blob/main/RandomForestClassifier_SKLearn.ipynb\" target=\"_parent\"><img src=\"https://colab.research.google.com/assets/colab-badge.svg\" alt=\"Open In Colab\"/></a>"
      ]
    },
    {
      "cell_type": "markdown",
      "source": [
        "#Librery"
      ],
      "metadata": {
        "id": "ITqliX2CC0c9"
      }
    },
    {
      "cell_type": "code",
      "source": [
        "import numpy as np\n",
        "import pandas as pd"
      ],
      "metadata": {
        "id": "qmRggeQMWLCF"
      },
      "execution_count": 44,
      "outputs": []
    },
    {
      "cell_type": "code",
      "source": [
        "dataset = pd.read_csv(\"https://raw.githubusercontent.com/RafsanJany-44/ML_Reasearch_1_Accurecy_Increasing/main/HMC_Small_Version_5000_50.csv\")\n",
        "\n",
        "target = \"Sleep Stage\""
      ],
      "metadata": {
        "id": "cssRMSVmza3a"
      },
      "execution_count": 51,
      "outputs": []
    },
    {
      "cell_type": "markdown",
      "source": [
        "#Spliting"
      ],
      "metadata": {
        "id": "1hOye7PqC4Wy"
      }
    },
    {
      "cell_type": "code",
      "source": [
        "X =  dataset.loc[:,dataset.columns != target]\n",
        "y = dataset[target]\n",
        "\n",
        "\n",
        "\"\"\"from sklearn.preprocessing import StandardScaler\n",
        "sc = StandardScaler()\n",
        " \n",
        "X = sc.fit_transform(X)\"\"\"\n",
        "\n",
        "\n",
        "from sklearn.model_selection import train_test_split\n",
        "X_train, X_test, y_train, y_test = train_test_split(X, y, test_size = 0.2, random_state = 0)\n"
      ],
      "metadata": {
        "id": "Dnky2eqAC8K9"
      },
      "execution_count": 93,
      "outputs": []
    },
    {
      "cell_type": "code",
      "source": [
        "\"\"\"from sklearn.preprocessing import StandardScaler\n",
        "sc = StandardScaler()\n",
        " \n",
        "X_train = sc.fit_transform(X_train)\n",
        "X_test = sc.transform(X_test)\"\"\""
      ],
      "metadata": {
        "id": "1VXuVF05DESb"
      },
      "execution_count": 91,
      "outputs": []
    },
    {
      "cell_type": "code",
      "source": [
        "%%time\n",
        "\n",
        "\n",
        "from sklearn.ensemble import RandomForestClassifier\n",
        "rfc_class = RandomForestClassifier(n_jobs=-1)\n",
        "rfc_class.fit(X_train, y_train)\n",
        "y_pred=rfc_class.predict(X_test)\n",
        "\n",
        "from sklearn.metrics import classification_report, confusion_matrix, accuracy_score\n",
        "print(\"Accurecy: \",accuracy_score(y_test, y_pred))"
      ],
      "metadata": {
        "id": "Lo-tnLUPClAg",
        "colab": {
          "base_uri": "https://localhost:8080/"
        },
        "outputId": "2dbf3dd0-4305-43b8-8b8c-5d732af186ff"
      },
      "execution_count": 97,
      "outputs": [
        {
          "output_type": "stream",
          "name": "stdout",
          "text": [
            "Accurecy:  0.795\n",
            "CPU times: user 3 s, sys: 29 ms, total: 3.03 s\n",
            "Wall time: 1.66 s\n"
          ]
        }
      ]
    },
    {
      "cell_type": "code",
      "source": [],
      "metadata": {
        "id": "QNoBJY3v36hb"
      },
      "execution_count": 96,
      "outputs": []
    }
  ]
}